{
  "nbformat": 4,
  "nbformat_minor": 0,
  "metadata": {
    "colab": {
      "name": "notebook-trabalho-final.ipynb",
      "provenance": []
    },
    "kernelspec": {
      "name": "python3",
      "display_name": "Python 3"
    },
    "language_info": {
      "name": "python"
    }
  },
  "cells": [
    {
      "cell_type": "code",
      "metadata": {
        "colab": {
          "base_uri": "https://localhost:8080/"
        },
        "id": "zyKyg4UvTMpx",
        "outputId": "93c49813-0590-4e09-c597-6744e7d4d88b"
      },
      "source": [
        "!pip install lxml"
      ],
      "execution_count": null,
      "outputs": [
        {
          "output_type": "stream",
          "name": "stdout",
          "text": [
            "Requirement already satisfied: lxml in /usr/local/lib/python3.7/dist-packages (4.2.6)\n"
          ]
        }
      ]
    },
    {
      "cell_type": "code",
      "metadata": {
        "id": "4KmbG4ESwlJB"
      },
      "source": [
        "import csv\n",
        "import requests\n",
        "from lxml.html import document_fromstring\n",
        "\n",
        "url = \"https://diariooficial.to.gov.br/busca?por=edicao&edicao=\"\n",
        "resposta = requests.get(url)\n",
        "html = resposta.text\n",
        "\n",
        "arvore = document_fromstring(html)\n",
        "\n",
        "tags = arvore.xpath(\"//td/a[contains(text(), ' Baixar')]\")\n",
        "tags_data = arvore.xpath(\"//td[contains(text(), '2021')]\")\n",
        "\n",
        "arquivo = open(\"links-diários-tocantins.csv\", mode = \"w\")\n",
        "escritor = csv.DictWriter(arquivo, fieldnames = [\"data\", \"link\"])\n",
        "escritor.writeheader()\n",
        "\n",
        "\n",
        "resultado = []\n",
        "for tag1, tag2 in zip(tags, tags_data):\n",
        "  link = tag1.xpath(\"@href\")[0]\n",
        "  data = tag2.xpath(\"text()\")[0]\n",
        "  obj = {'data': data, 'link': link}\n",
        "  resultado.append(obj)\n",
        "  escritor.writerow({\"data\": data, \"link\": link})\n",
        "\n",
        "arquivo.close()"
      ],
      "execution_count": null,
      "outputs": []
    }
  ]
}